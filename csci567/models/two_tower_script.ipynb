{
  "cells": [
    {
      "cell_type": "code",
      "source": [
        "from google.colab import drive\n",
        "\n",
        "drive.mount('/content/gdrive', force_remount=True)"
      ],
      "metadata": {
        "colab": {
          "base_uri": "https://localhost:8080/"
        },
        "id": "cN0F_5stOJXt",
        "outputId": "521fb890-473a-4791-ecf8-6f3f8669dcae"
      },
      "id": "cN0F_5stOJXt",
      "execution_count": null,
      "outputs": [
        {
          "output_type": "stream",
          "name": "stdout",
          "text": [
            "Mounted at /content/gdrive\n"
          ]
        }
      ]
    },
    {
      "cell_type": "code",
      "source": [
        "%cd gdrive/MyDrive/csci567"
      ],
      "metadata": {
        "colab": {
          "base_uri": "https://localhost:8080/"
        },
        "id": "6eW-vnvXO6lu",
        "outputId": "a097a4ad-2f19-4615-ab34-88848b0ba789"
      },
      "id": "6eW-vnvXO6lu",
      "execution_count": null,
      "outputs": [
        {
          "output_type": "stream",
          "name": "stdout",
          "text": [
            "/content/gdrive/MyDrive/csci567\n"
          ]
        }
      ]
    },
    {
      "cell_type": "code",
      "source": [
        "!ls\n",
        "%env DATA_DIR=./data\n",
        "%env EXP_DIR=./experiments"
      ],
      "metadata": {
        "colab": {
          "base_uri": "https://localhost:8080/"
        },
        "id": "UzPsAhjEQJA-",
        "outputId": "30aab17f-0a11-42b9-a310-da197359fb5e"
      },
      "id": "UzPsAhjEQJA-",
      "execution_count": null,
      "outputs": [
        {
          "output_type": "stream",
          "name": "stdout",
          "text": [
            "csci567  csci567.egg-info  data  experiments  README.md  setup.py  venv\n",
            "env: DATA_DIR=./data\n",
            "env: EXP_DIR=./experiments\n"
          ]
        }
      ]
    },
    {
      "cell_type": "code",
      "execution_count": null,
      "id": "245bc17a",
      "metadata": {
        "id": "245bc17a"
      },
      "outputs": [],
      "source": [
        "from csci567.models.two_tower_model import *"
      ]
    },
    {
      "cell_type": "code",
      "execution_count": null,
      "id": "e665c5bc",
      "metadata": {
        "colab": {
          "base_uri": "https://localhost:8080/"
        },
        "id": "e665c5bc",
        "outputId": "f6f5698c-61fd-4cd9-ccfd-a30b0347fb37"
      },
      "outputs": [
        {
          "output_type": "stream",
          "name": "stdout",
          "text": [
            "Initializing experiment: two_tower_symmetric_net_large\n"
          ]
        }
      ],
      "source": [
        "# Init\n",
        "experiment_name = \"two_tower\"\n",
        "print(f\"Initializing experiment: {experiment_name}\")\n",
        "device = torch.device('cuda' if torch.cuda.is_available() else 'cpu')\n",
        "epochs = 10000\n",
        "val_size = 100\n",
        "learning_rate = 5e-4"
      ]
    },
    {
      "cell_type": "code",
      "execution_count": null,
      "id": "15fee907",
      "metadata": {
        "colab": {
          "base_uri": "https://localhost:8080/"
        },
        "id": "15fee907",
        "outputId": "6abc6b4d-8b91-41ae-bc3a-84c369c9cbe5"
      },
      "outputs": [
        {
          "output_type": "stream",
          "name": "stdout",
          "text": [
            "Loading in training data\n",
            "# unique customer: 256355\n",
            "# unique articles: 29548\n",
            "# unique article features: 152974\n"
          ]
        }
      ],
      "source": [
        "# Load in training data\n",
        "print(\"Loading in training data\")\n",
        "transactions_df = get_train_data(cutoff_date=None)\n",
        "purchases_df, customers_index_dict, articles_index_dict = get_customer_purchases(\n",
        "    transactions_df, after=\"2020-08-22\")\n",
        "articles_df = pd.read_csv(os.path.join(os.environ[\"DATA_DIR\"], \"articles.csv\"), dtype={\"article_id\": str}).fillna(\"None\")\n",
        "articles_features_dicts, num_features, total_features = get_object_features(articles_df)\n",
        "article_index_dicts = prepare_object_embed_idxs(articles_df, articles_features_dicts)\n",
        "\n",
        "print(f\"# unique customer: {len(customers_index_dict)}\")\n",
        "print(f\"# unique articles: {len(articles_index_dict)}\")\n",
        "print(f\"# unique article features: {total_features}\")\n",
        "del transactions_df\n",
        "del articles_df\n",
        "del articles_features_dicts\n",
        "\n",
        "with open(os.path.join(os.environ[\"EXP_DIR\"], f\"{experiment_name}_customers_index_dict.pkl\"), 'wb') as f:\n",
        "    pickle.dump(customers_index_dict, f)\n",
        "with open(os.path.join(os.environ[\"EXP_DIR\"], f\"{experiment_name}_articles_index_dicts.pkl\"), 'wb') as f:\n",
        "    pickle.dump(article_index_dicts, f)\n",
        "\n",
        "training_purchases_df = purchases_df\n",
        "testing_purchases_df = purchases_df[-val_size:]"
      ]
    },
    {
      "cell_type": "code",
      "execution_count": null,
      "id": "33a0810c",
      "metadata": {
        "colab": {
          "base_uri": "https://localhost:8080/"
        },
        "id": "33a0810c",
        "outputId": "e98e2b56-695a-453f-f2ab-75c545a16d63"
      },
      "outputs": [
        {
          "output_type": "stream",
          "name": "stdout",
          "text": [
            "Making purchases dataloader\n"
          ]
        }
      ],
      "source": [
        "# Make dataset and dataloader\n",
        "print(\"Making purchases dataloader\")\n",
        "training_purchases_dataset = PurchasesDataset(\n",
        "    training_purchases_df, customers_index_dict, article_index_dicts, device=device)\n",
        "training_purchases_dataloader = DataLoader(\n",
        "    training_purchases_dataset, batch_size=64, drop_last=True, shuffle=True)\n",
        "testing_purchases_dataset = PurchasesDataset(\n",
        "    testing_purchases_df, customers_index_dict, article_index_dicts, device=device)\n",
        "testing_purchases_dataloader = DataLoader(\n",
        "    testing_purchases_dataset, batch_size=val_size, drop_last=True, shuffle=False)"
      ]
    },
    {
      "cell_type": "code",
      "execution_count": null,
      "id": "e57abbd6",
      "metadata": {
        "colab": {
          "base_uri": "https://localhost:8080/"
        },
        "id": "e57abbd6",
        "outputId": "e1311f57-52a5-4290-c28f-a3173985003b"
      },
      "outputs": [
        {
          "output_type": "stream",
          "name": "stdout",
          "text": [
            "Making model and trainer\n",
            "+-----------------------------+------------+\n",
            "|           Modules           | Parameters |\n",
            "+-----------------------------+------------+\n",
            "|  queries_embeddings.weight  |  2050840   |\n",
            "| objects_embeddings.0.weight |   422168   |\n",
            "| objects_embeddings.1.weight |   377792   |\n",
            "| objects_embeddings.2.weight |    1056    |\n",
            "| objects_embeddings.3.weight |    120     |\n",
            "| objects_embeddings.4.weight |     80     |\n",
            "| objects_embeddings.5.weight |     20     |\n",
            "| objects_embeddings.6.weight |     84     |\n",
            "|   query_net.model.0.weight  |    1408    |\n",
            "|    query_net.model.0.bias   |     32     |\n",
            "|   query_net.model.2.weight  |    1024    |\n",
            "|    query_net.model.2.bias   |     32     |\n",
            "|   query_net.model.4.weight  |    512     |\n",
            "|    query_net.model.4.bias   |     16     |\n",
            "|  object_net.model.0.weight  |    1152    |\n",
            "|   object_net.model.0.bias   |     32     |\n",
            "|  object_net.model.2.weight  |    1024    |\n",
            "|   object_net.model.2.bias   |     32     |\n",
            "|  object_net.model.4.weight  |    512     |\n",
            "|   object_net.model.4.bias   |     16     |\n",
            "+-----------------------------+------------+\n",
            "Total Trainable Params: 2857952\n"
          ]
        }
      ],
      "source": [
        "# Make model and trainer\n",
        "print(\"Making model and trainer\")\n",
        "two_tower_model = TwoTowerModel(\n",
        "    len(customers_index_dict), num_features, device=device)\n",
        "count_parameters(two_tower_model)\n",
        "two_tower_trainer = TwoTowerTrainer(\n",
        "    two_tower_model, training_purchases_dataloader, testing_purchases_dataloader, epochs, learning_rate, experiment_name)"
      ]
    },
    {
      "cell_type": "code",
      "execution_count": null,
      "id": "30cb8754",
      "metadata": {
        "id": "30cb8754"
      },
      "outputs": [],
      "source": [
        "# Start training\n",
        "print(\"Starting training\")\n",
        "two_tower_trainer.train()"
      ]
    }
  ],
  "metadata": {
    "kernelspec": {
      "display_name": "myvenv",
      "language": "python",
      "name": "myvenv"
    },
    "language_info": {
      "codemirror_mode": {
        "name": "ipython",
        "version": 3
      },
      "file_extension": ".py",
      "mimetype": "text/x-python",
      "name": "python",
      "nbconvert_exporter": "python",
      "pygments_lexer": "ipython3",
      "version": "3.9.10"
    },
    "colab": {
      "name": "two_tower_script.ipynb",
      "provenance": [],
      "machine_shape": "hm",
      "collapsed_sections": [],
      "background_execution": "on"
    },
    "accelerator": "GPU"
  },
  "nbformat": 4,
  "nbformat_minor": 5
}